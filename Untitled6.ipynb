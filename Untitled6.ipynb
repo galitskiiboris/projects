{
 "cells": [
  {
   "cell_type": "code",
   "execution_count": 18,
   "metadata": {
    "collapsed": true
   },
   "outputs": [],
   "source": [
    "import numpy as np\n",
    "import math\n",
    "import matplotlib.pyplot as plt\n",
    "%matplotlib inline"
   ]
  },
  {
   "cell_type": "code",
   "execution_count": 61,
   "metadata": {
    "collapsed": false
   },
   "outputs": [],
   "source": [
    "A = -1; B = 1; T = 0.5   # границы\n",
    "h = 0.05; tau = 0.025     # размеры шага по времени и координате\n",
    "M = int ((B-A)/h)# количество узлов по координате\n",
    "N = int(T / tau)              # количество узлов по времени\n",
    "u1 = np.linspace(A, B, M+1)\n",
    "u2 = np.linspace(0,0,M+1)\n",
    "u3 = np.linspace(0,0, M+1)\n",
    "x = np.linspace(A, B, M+1)"
   ]
  },
  {
   "cell_type": "code",
   "execution_count": 62,
   "metadata": {
    "collapsed": true
   },
   "outputs": [],
   "source": [
    "nu = 1"
   ]
  },
  {
   "cell_type": "code",
   "execution_count": 63,
   "metadata": {
    "collapsed": false
   },
   "outputs": [
    {
     "data": {
      "text/plain": [
       "array([-1.  , -0.95, -0.9 , -0.85, -0.8 , -0.75, -0.7 , -0.65, -0.6 ,\n",
       "       -0.55, -0.5 , -0.45, -0.4 , -0.35, -0.3 , -0.25, -0.2 , -0.15,\n",
       "       -0.1 , -0.05,  0.  ,  0.05,  0.1 ,  0.15,  0.2 ,  0.25,  0.3 ,\n",
       "        0.35,  0.4 ,  0.45,  0.5 ,  0.55,  0.6 ,  0.65,  0.7 ,  0.75,\n",
       "        0.8 ,  0.85,  0.9 ,  0.95,  1.  ])"
      ]
     },
     "execution_count": 63,
     "metadata": {},
     "output_type": "execute_result"
    }
   ],
   "source": [
    "u1"
   ]
  },
  {
   "cell_type": "code",
   "execution_count": 64,
   "metadata": {
    "collapsed": true
   },
   "outputs": [],
   "source": [
    "def Gauss(x, mu, sigma):\n",
    "    return math.exp((-(x-mu)**2)/(2*sigma**2))"
   ]
  },
  {
   "cell_type": "code",
   "execution_count": 65,
   "metadata": {
    "collapsed": true
   },
   "outputs": [],
   "source": [
    "mu = 0\n",
    "sigma = 0.1"
   ]
  },
  {
   "cell_type": "code",
   "execution_count": 66,
   "metadata": {
    "collapsed": true
   },
   "outputs": [],
   "source": [
    "for i in range(M+1):\n",
    "    u1[i] = Gauss(u1[i], mu, sigma)"
   ]
  },
  {
   "cell_type": "code",
   "execution_count": 67,
   "metadata": {
    "collapsed": false
   },
   "outputs": [
    {
     "data": {
      "text/plain": [
       "array([  1.92874985e-22,   2.52616378e-20,   2.57675711e-18,\n",
       "         2.04697171e-16,   1.26641655e-14,   6.10193668e-13,\n",
       "         2.28973485e-11,   6.69158609e-10,   1.52299797e-08,\n",
       "         2.69957850e-07,   3.72665317e-06,   4.00652974e-05,\n",
       "         3.35462628e-04,   2.18749112e-03,   1.11089965e-02,\n",
       "         4.39369336e-02,   1.35335283e-01,   3.24652467e-01,\n",
       "         6.06530660e-01,   8.82496903e-01,   1.00000000e+00,\n",
       "         8.82496903e-01,   6.06530660e-01,   3.24652467e-01,\n",
       "         1.35335283e-01,   4.39369336e-02,   1.11089965e-02,\n",
       "         2.18749112e-03,   3.35462628e-04,   4.00652974e-05,\n",
       "         3.72665317e-06,   2.69957850e-07,   1.52299797e-08,\n",
       "         6.69158609e-10,   2.28973485e-11,   6.10193668e-13,\n",
       "         1.26641655e-14,   2.04697171e-16,   2.57675711e-18,\n",
       "         2.52616378e-20,   1.92874985e-22])"
      ]
     },
     "execution_count": 67,
     "metadata": {},
     "output_type": "execute_result"
    }
   ],
   "source": [
    "u1"
   ]
  },
  {
   "cell_type": "code",
   "execution_count": 68,
   "metadata": {
    "collapsed": true
   },
   "outputs": [],
   "source": [
    "for i in range(M+1):\n",
    "    u3[i] = u1[i]"
   ]
  },
  {
   "cell_type": "code",
   "execution_count": 69,
   "metadata": {
    "collapsed": false
   },
   "outputs": [
    {
     "data": {
      "text/plain": [
       "[<matplotlib.lines.Line2D at 0x8ff5b10>]"
      ]
     },
     "execution_count": 69,
     "metadata": {},
     "output_type": "execute_result"
    },
    {
     "data": {
      "image/png": "[encoded data removed]",
      "text/plain": [
       "<matplotlib.figure.Figure at 0x8f70c10>"
      ]
     },
     "metadata": {},
     "output_type": "display_data"
    }
   ],
   "source": [
    "plt.plot(x, u1)"
   ]
  },
  {
   "cell_type": "code",
   "execution_count": 70,
   "metadata": {
    "collapsed": true
   },
   "outputs": [],
   "source": [
    "u1[0] = u1[M] = 0"
   ]
  },
  {
   "cell_type": "code",
   "execution_count": 71,
   "metadata": {
    "collapsed": false
   },
   "outputs": [
    {
     "name": "stderr",
     "output_type": "stream",
     "text": [
      "C:\\Program Files\\Anaconda2\\lib\\site-packages\\ipykernel\\__main__.py:5: RuntimeWarning: overflow encountered in double_scalars\n",
      "C:\\Program Files\\Anaconda2\\lib\\site-packages\\ipykernel\\__main__.py:5: RuntimeWarning: invalid value encountered in double_scalars\n"
     ]
    }
   ],
   "source": [
    "for i in range(N):\n",
    "    for j in range(1, M):\n",
    "        d1 = (u1[j] - u1[j - 1]) / 2\n",
    "        d2 = (u1[j] + u1[j - 1]) / 2\n",
    "        u2[j] = u1[j] + tau * (((u1[j-1])**2-(u1[j+1])**2)/(4*h)+(abs(d2)*(u1[j+1]-u1[j])-abs(d1)*(u1[j]-u1[j-1]))/(2*h)+(nu*(u1[j+1]-2*u1[j]+u1[j-1]))/(h**2))\n",
    "    u1, u2 = u2, u1"
   ]
  },
  {
   "cell_type": "code",
   "execution_count": 73,
   "metadata": {
    "collapsed": false
   },
   "outputs": [
    {
     "data": {
      "text/plain": [
       "[<matplotlib.lines.Line2D at 0x9182530>]"
      ]
     },
     "execution_count": 73,
     "metadata": {},
     "output_type": "execute_result"
    },
    {
     "data": {
      "image/png": "[encoded data removed]",
      "text/plain": [
       "<matplotlib.figure.Figure at 0x9025e10>"
      ]
     },
     "metadata": {},
     "output_type": "display_data"
    }
   ],
   "source": [
    "plt.plot(x, u1)\n"
   ]
  }
 ],
 "metadata": {
  "kernelspec": {
   "display_name": "Python [conda root]",
   "language": "python",
   "name": "conda-root-py"
  },
  "language_info": {
   "codemirror_mode": {
    "name": "ipython",
    "version": 2
   },
   "file_extension": ".py",
   "mimetype": "text/x-python",
   "name": "python",
   "nbconvert_exporter": "python",
   "pygments_lexer": "ipython2",
   "version": "2.7.12"
  }
 },
 "nbformat": 4,
 "nbformat_minor": 1
}
