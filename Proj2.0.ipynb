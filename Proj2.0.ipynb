{
 "cells": [
  {
   "cell_type": "markdown",
   "metadata": {},
   "source": [
    "## Метод Лакса-Вендроффа"
   ]
  },
  {
   "cell_type": "code",
   "execution_count": 1,
   "metadata": {
    "collapsed": true
   },
   "outputs": [],
   "source": [
    "import numpy as np\n",
    "import math\n",
    "import matplotlib.pyplot as plt\n",
    "%matplotlib inline\n",
    "import scipy"
   ]
  },
  {
   "cell_type": "code",
   "execution_count": 43,
   "metadata": {
    "collapsed": true
   },
   "outputs": [],
   "source": [
    "A = -1; B = 1; T = 0.5   # границы\n",
    "h = 0.05; tau = 0.0025     # размеры шага по времени и координате\n",
    "M = int ((B-A)/h)# количество узлов по координате\n",
    "N = int(T / tau)              # количество узлов по времени\n",
    "u1 = np.linspace(A, B, M+1)\n",
    "u2 = np.linspace(0,0,M+1)\n",
    "x = np.linspace(A, B, M+1)\n",
    "nu = .0"
   ]
  },
  {
   "cell_type": "code",
   "execution_count": 44,
   "metadata": {
    "collapsed": false
   },
   "outputs": [],
   "source": [
    "def Gauss(x, mu, sigma):\n",
    "    return math.exp((-(x-mu)**2)/(2*sigma**2))"
   ]
  },
  {
   "cell_type": "code",
   "execution_count": 45,
   "metadata": {
    "collapsed": true
   },
   "outputs": [],
   "source": [
    "mu = 0\n",
    "sigma = .2"
   ]
  },
  {
   "cell_type": "code",
   "execution_count": 46,
   "metadata": {
    "collapsed": false
   },
   "outputs": [],
   "source": [
    "for i in range(M+1):\n",
    "    u1[i] = Gauss(x[i], mu, sigma)\n",
    "u0 = u1.copy() "
   ]
  },
  {
   "cell_type": "code",
   "execution_count": 47,
   "metadata": {
    "collapsed": false
   },
   "outputs": [
    {
     "data": {
      "text/plain": [
       "[<matplotlib.lines.Line2D at 0x916aef0>]"
      ]
     },
     "execution_count": 47,
     "metadata": {},
     "output_type": "execute_result"
    },
    {
     "data": {
      "image/png": "[encoded data removed]",
      "text/plain": [
       "<matplotlib.figure.Figure at 0x9031f90>"
      ]
     },
     "metadata": {},
     "output_type": "display_data"
    }
   ],
   "source": [
    "plt.plot(x, u0)"
   ]
  },
  {
   "cell_type": "code",
   "execution_count": 48,
   "metadata": {
    "collapsed": true
   },
   "outputs": [],
   "source": [
    "u1[0] = u1[M] = 0"
   ]
  },
  {
   "cell_type": "code",
   "execution_count": 49,
   "metadata": {
    "collapsed": false
   },
   "outputs": [
    {
     "name": "stdout",
     "output_type": "stream",
     "text": [
      "Hyperbolic Courant: 0.05 Parabolic Courant: 0.0\n"
     ]
    }
   ],
   "source": [
    "cou1 = np.abs(u1).max() * tau / h\n",
    "cou2 = nu * tau / h**2\n",
    "print 'Hyperbolic Courant:', cou1, 'Parabolic Courant:', cou2"
   ]
  },
  {
   "cell_type": "code",
   "execution_count": 50,
   "metadata": {
    "collapsed": false
   },
   "outputs": [],
   "source": [
    "for i in range(N):\n",
    "    for j in range(1, M):\n",
    "        p1 = ((u1[j]) ** 2 - (u1[j+1]) ** 2) * tau / 8 + 0.5 * (u1[j+1] + u1[j])\n",
    "        p2 = ((u1[j]) ** 2 - (u1[j+1]) ** 2) * tau / 8 + 0.5 * (u1[j+1] - u1[j])\n",
    "        u2[j] = u1[j] + nu / (h ** 2) * (u1[j+1] - 2 * u1[j] + u1[j-1]) + tau / (h * 2) * (p1 ** 2 - p2 ** 2)\n",
    "    u2, u1 = u1, u2"
   ]
  },
  {
   "cell_type": "code",
   "execution_count": 41,
   "metadata": {
    "collapsed": false
   },
   "outputs": [
    {
     "data": {
      "text/plain": [
       "array([  0.,  nan,  nan,  nan,  nan,  nan,  nan,  nan,  nan,  nan,  nan,\n",
       "        nan,  nan,  nan,  nan,  nan,  nan,  nan,  nan,  nan,  nan,  nan,\n",
       "        nan,  nan,  nan,  nan,  nan,  nan,  nan,  nan,  nan,  nan,  nan,\n",
       "        nan,  nan,  nan,  nan,  nan,  nan,  nan,   0.])"
      ]
     },
     "execution_count": 41,
     "metadata": {},
     "output_type": "execute_result"
    }
   ],
   "source": [
    "u1 # при nu = .1"
   ]
  },
  {
   "cell_type": "code",
   "execution_count": 42,
   "metadata": {
    "collapsed": false
   },
   "outputs": [
    {
     "data": {
      "text/plain": [
       "[<matplotlib.lines.Line2D at 0x9061850>]"
      ]
     },
     "execution_count": 42,
     "metadata": {},
     "output_type": "execute_result"
    },
    {
     "data": {
      "image/png": "[encoded data removed]",
      "text/plain": [
       "<matplotlib.figure.Figure at 0x72838f0>"
      ]
     },
     "metadata": {},
     "output_type": "display_data"
    }
   ],
   "source": [
    "plt.plot(x, u0)\n",
    "plt.plot(x, u2) # при nu = .1"
   ]
  },
  {
   "cell_type": "code",
   "execution_count": 51,
   "metadata": {
    "collapsed": false
   },
   "outputs": [
    {
     "data": {
      "text/plain": [
       "array([  0.00000000e+00,   1.26096317e-05,   4.00892862e-05,\n",
       "         1.19814123e-04,   3.36956546e-04,   8.93673000e-04,\n",
       "         2.24549784e-03,   5.39279255e-03,   1.21908648e-02,\n",
       "         1.06505767e-02,  -2.30727274e-01,  -7.78844529e+32,\n",
       "        -6.52441307e+36,  -8.06420251e+02,   1.20826174e+20,\n",
       "        -5.75513373e+32,  -2.33009514e+37,   1.37637405e+38,\n",
       "         1.39140778e+31,   1.40089703e+27,   2.24002962e+30,\n",
       "         2.89090690e+33,   8.00503167e+30,   3.38099751e+27,\n",
       "         3.53166433e+20,   1.80751922e+01,   1.66782380e+00,\n",
       "         5.02463548e-01,   2.11441501e-01,   1.00410342e-01,\n",
       "         4.93991267e-02,   2.41130923e-02,   1.13966948e-02,\n",
       "         5.14212591e-03,   2.19718735e-03,   8.85310442e-04,\n",
       "         3.35663336e-04,   1.19636848e-04,   4.00678230e-05,\n",
       "         1.26071052e-05,   0.00000000e+00])"
      ]
     },
     "execution_count": 51,
     "metadata": {},
     "output_type": "execute_result"
    }
   ],
   "source": [
    "u1 # при nu = 0"
   ]
  },
  {
   "cell_type": "code",
   "execution_count": 52,
   "metadata": {
    "collapsed": false
   },
   "outputs": [
    {
     "data": {
      "text/plain": [
       "[<matplotlib.lines.Line2D at 0x922a550>]"
      ]
     },
     "execution_count": 52,
     "metadata": {},
     "output_type": "execute_result"
    },
    {
     "data": {
      "image/png": "[encoded data removed]",
      "text/plain": [
       "<matplotlib.figure.Figure at 0x8ff38f0>"
      ]
     },
     "metadata": {},
     "output_type": "display_data"
    }
   ],
   "source": [
    "plt.plot(x, u0)\n",
    "plt.plot(x, u2) # при nu = 0"
   ]
  }
 ],
 "metadata": {
  "anaconda-cloud": {},
  "kernelspec": {
   "display_name": "Python [conda root]",
   "language": "python",
   "name": "conda-root-py"
  },
  "language_info": {
   "codemirror_mode": {
    "name": "ipython",
    "version": 2
   },
   "file_extension": ".py",
   "mimetype": "text/x-python",
   "name": "python",
   "nbconvert_exporter": "python",
   "pygments_lexer": "ipython2",
   "version": "2.7.12"
  }
 },
 "nbformat": 4,
 "nbformat_minor": 1
}
