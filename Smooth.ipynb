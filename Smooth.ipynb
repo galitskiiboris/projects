{
 "cells": [
  {
   "cell_type": "code",
   "execution_count": 187,
   "metadata": {
    "collapsed": true
   },
   "outputs": [],
   "source": [
    "import numpy as np\n",
    "import math\n",
    "import matplotlib.pyplot as plt\n",
    "%matplotlib inline\n",
    "import scipy"
   ]
  },
  {
   "cell_type": "code",
   "execution_count": 200,
   "metadata": {
    "collapsed": true
   },
   "outputs": [],
   "source": [
    "A = 0; B = 1; T = 1        # границы\n",
    "h = 0.01; tau = 0.0001     # размеры шага по времени и координате\n",
    "M = int ((B-A)/h)          # количество узлов по координате\n",
    "N = int(T / tau)              # количество узлов по времени\n",
    "u1 = np.linspace(A, B, M+1)\n",
    "u2 = np.linspace(0,0,M+1)\n",
    "x = np.linspace(A, B, M+1)\n",
    "nu = .25"
   ]
  },
  {
   "cell_type": "code",
   "execution_count": 201,
   "metadata": {
    "collapsed": false
   },
   "outputs": [
    {
     "name": "stdout",
     "output_type": "stream",
     "text": [
      "Hyperbolic Courant: 0.01 Parabolic Courant: 0.25\n"
     ]
    }
   ],
   "source": [
    "cou1 = np.abs(u1).max() * tau / h\n",
    "cou2 = nu * tau / h**2\n",
    "print 'Hyperbolic Courant:', cou1, 'Parabolic Courant:', cou2"
   ]
  },
  {
   "cell_type": "code",
   "execution_count": 202,
   "metadata": {
    "collapsed": true
   },
   "outputs": [],
   "source": [
    "x0 = 0.5; t0 = -0.05"
   ]
  },
  {
   "cell_type": "code",
   "execution_count": 203,
   "metadata": {
    "collapsed": true
   },
   "outputs": [],
   "source": [
    "def xi(x, t, nu, x0, t0):\n",
    "    return (x-x0)/(2*(nu*(t-t0)) ** (1/2))"
   ]
  },
  {
   "cell_type": "code",
   "execution_count": 204,
   "metadata": {
    "collapsed": false
   },
   "outputs": [
    {
     "data": {
      "text/plain": [
       "0.25"
      ]
     },
     "execution_count": 204,
     "metadata": {},
     "output_type": "execute_result"
    }
   ],
   "source": [
    "xi(1, 1, nu, x0, t0)"
   ]
  },
  {
   "cell_type": "code",
   "execution_count": 205,
   "metadata": {
    "collapsed": true
   },
   "outputs": [],
   "source": [
    "def u_acc(x, t, nu, x0, t0): #точное решение\n",
    "    return ((4*nu)/(math.pi*(t-t0))) ** (1/2)*math.exp(-(xi(x,t,nu, x0,t0))**2)/math.erfc(xi(x, t,nu,x0,t0))"
   ]
  },
  {
   "cell_type": "code",
   "execution_count": 206,
   "metadata": {
    "collapsed": false
   },
   "outputs": [
    {
     "data": {
      "text/plain": [
       "1.2981170655537198"
      ]
     },
     "execution_count": 206,
     "metadata": {},
     "output_type": "execute_result"
    }
   ],
   "source": [
    "u_acc(1, 1, nu, x0, t0)"
   ]
  },
  {
   "cell_type": "code",
   "execution_count": 207,
   "metadata": {
    "collapsed": true
   },
   "outputs": [],
   "source": [
    "for i in range(M+1):\n",
    "    u1[i] = u_acc(u1[i], 0, nu, x0, t0)"
   ]
  },
  {
   "cell_type": "code",
   "execution_count": 208,
   "metadata": {
    "collapsed": true
   },
   "outputs": [],
   "source": [
    "u0 = u1.copy() #НУ\n",
    "u3 = u1.copy() #Для КИР\n",
    "u4 = u1.copy() #Для точного решения в момент времени 1"
   ]
  },
  {
   "cell_type": "code",
   "execution_count": 209,
   "metadata": {
    "collapsed": false
   },
   "outputs": [],
   "source": [
    "u2[0] = u1[0]; u2[M] = u1[M]"
   ]
  },
  {
   "cell_type": "code",
   "execution_count": 210,
   "metadata": {
    "collapsed": false
   },
   "outputs": [
    {
     "data": {
      "text/plain": [
       "[<matplotlib.lines.Line2D at 0x9701d30>]"
      ]
     },
     "execution_count": 210,
     "metadata": {},
     "output_type": "execute_result"
    },
    {
     "data": {
      "image/png": "[encoded data removed]",
      "text/plain": [
       "<matplotlib.figure.Figure at 0x9698a70>"
      ]
     },
     "metadata": {},
     "output_type": "display_data"
    }
   ],
   "source": [
    "plt.plot(x, u1)"
   ]
  },
  {
   "cell_type": "code",
   "execution_count": 211,
   "metadata": {
    "collapsed": false
   },
   "outputs": [],
   "source": [
    "for i in range(N): # Схема Л.-В.\n",
    "    u1[0] = u_acc(A, i * tau, nu, x0, t0)\n",
    "    u1[M] = u_acc(B, i * tau, nu, x0, t0)\n",
    "    for j in range(1, M):\n",
    "        p1 = ((u1[j]) ** 2 - (u1[j+1]) ** 2) * tau / 8 + 0.5 * (u1[j+1] + u1[j])\n",
    "        p2 = ((u1[j-1]) ** 2 - (u1[j]) ** 2) * tau / 8 + 0.5 * (u1[j] + u1[j-1])\n",
    "        u2[j] = u1[j] + nu*tau / (h ** 2) * (u1[j+1] - 2 * u1[j] + u1[j-1]) - tau / (h * 2) * (p1 ** 2 - p2 ** 2)\n",
    "    u2, u1 = u1, u2"
   ]
  },
  {
   "cell_type": "code",
   "execution_count": 212,
   "metadata": {
    "collapsed": false
   },
   "outputs": [],
   "source": [
    "for i in range(N):\n",
    "    u3[0] = u_acc(A, i * tau, nu, x0, t0)\n",
    "    u3[M] = u_acc(B, i * tau, nu, x0, t0)\n",
    "    for j in range(1, M):\n",
    "        d1 = abs(u3[j] - u3[j - 1]) / 2\n",
    "        d2 = abs(u3[j] + u3[j - 1]) / 2\n",
    "        val1 = (u3[j-1]**2-u3[j+1]**2)/(4*h)\n",
    "        val2 = (d2*(u3[j+1]-u3[j])-d1*(u3[j]-u3[j-1]))/(2*h)\n",
    "        val3 = nu*(u3[j+1]-2*u3[j]+u3[j-1])/(h**2)\n",
    "        u2[j] = u3[j] + tau * (val1 + val2 + val3)\n",
    "    u2,u3 = u3,u2"
   ]
  },
  {
   "cell_type": "code",
   "execution_count": 213,
   "metadata": {
    "collapsed": true
   },
   "outputs": [],
   "source": [
    "for i in range(M+1):\n",
    "    u4[i] = u_acc(u4[i], 1, nu, x0, t0)"
   ]
  },
  {
   "cell_type": "code",
   "execution_count": 214,
   "metadata": {
    "collapsed": false
   },
   "outputs": [
    {
     "data": {
      "text/plain": [
       "[<matplotlib.lines.Line2D at 0x98a1690>]"
      ]
     },
     "execution_count": 214,
     "metadata": {},
     "output_type": "execute_result"
    },
    {
     "data": {
      "image/png": "[encoded data removed]",
      "text/plain": [
       "<matplotlib.figure.Figure at 0x9719250>"
      ]
     },
     "metadata": {},
     "output_type": "display_data"
    }
   ],
   "source": [
    "plt.plot(x, u0) #НУ\n",
    "plt.plot(x, u1) #Л.-В.\n",
    "plt.plot(x, u3) #КИР\n",
    "plt.plot(x, u4) #Точное решение при T= 1"
   ]
  },
  {
   "cell_type": "code",
   "execution_count": 215,
   "metadata": {
    "collapsed": false
   },
   "outputs": [
    {
     "data": {
      "text/plain": [
       "100"
      ]
     },
     "execution_count": 215,
     "metadata": {},
     "output_type": "execute_result"
    }
   ],
   "source": [
    "M"
   ]
  }
 ],
 "metadata": {
  "anaconda-cloud": {},
  "kernelspec": {
   "display_name": "Python [default]",
   "language": "python",
   "name": "python2"
  },
  "language_info": {
   "codemirror_mode": {
    "name": "ipython",
    "version": 2
   },
   "file_extension": ".py",
   "mimetype": "text/x-python",
   "name": "python",
   "nbconvert_exporter": "python",
   "pygments_lexer": "ipython2",
   "version": "2.7.12"
  }
 },
 "nbformat": 4,
 "nbformat_minor": 1
}
