{
 "cells": [
  {
   "cell_type": "markdown",
   "metadata": {},
   "source": [
    "# \"Уравнение Бюргерса. Изучение поведения различных схем\""
   ]
  },
  {
   "cell_type": "markdown",
   "metadata": {},
   "source": [
    "## Метод Куранта-Изаксона-Риса"
   ]
  },
  {
   "cell_type": "markdown",
   "metadata": {},
   "source": [
    "$$\\frac{u_i^{n+1}-u_i^n}{\\Delta t} + \\frac{(u_{i+1}^n)^2-(u_{i-1}^n)^2}{4 \\Delta x} = \\frac{|u^n_{i+1/2}|(u^n_{i+1}-u^n_i)-|u^n_{i-1/2}|(u_n^i-u_{i-1}^n)}{2\\Delta x}+\\nu \\frac{u_{i+1}^n-2u_i^n + u_{i-1}^n}{(\\Delta x)^2},$$\n",
    "\t$$ u_{i+1/2}^n= \\frac{u_i^n+u_{i+1}^n}{2}$$"
   ]
  },
  {
   "cell_type": "code",
   "execution_count": 22,
   "metadata": {
    "collapsed": true
   },
   "outputs": [],
   "source": [
    "import numpy as np\n",
    "import random\n",
    "import math\n",
    "import matplotlib.pyplot as plt\n",
    "%matplotlib inline"
   ]
  },
  {
   "cell_type": "code",
   "execution_count": 152,
   "metadata": {
    "collapsed": false
   },
   "outputs": [],
   "source": [
    "A = -1; B = 1; T = 0.5   # границы\n",
    "h = 0.05; tau = 0.05     # размеры шага по времени и координате\n",
    "M = int ((B-A)/h)# количество узлов по координате\n",
    "N = int(T / tau)              # количество узлов по времени\n",
    "X = np.linspace(A, B, M+1)\n",
    "x = np.linspace(A, B, M+1)"
   ]
  },
  {
   "cell_type": "code",
   "execution_count": 141,
   "metadata": {
    "collapsed": true
   },
   "outputs": [],
   "source": [
    "nu = 1"
   ]
  },
  {
   "cell_type": "code",
   "execution_count": 153,
   "metadata": {
    "collapsed": false,
    "scrolled": true
   },
   "outputs": [
    {
     "data": {
      "text/plain": [
       "array([-1.  , -0.95, -0.9 , -0.85, -0.8 , -0.75, -0.7 , -0.65, -0.6 ,\n",
       "       -0.55, -0.5 , -0.45, -0.4 , -0.35, -0.3 , -0.25, -0.2 , -0.15,\n",
       "       -0.1 , -0.05,  0.  ,  0.05,  0.1 ,  0.15,  0.2 ,  0.25,  0.3 ,\n",
       "        0.35,  0.4 ,  0.45,  0.5 ,  0.55,  0.6 ,  0.65,  0.7 ,  0.75,\n",
       "        0.8 ,  0.85,  0.9 ,  0.95,  1.  ])"
      ]
     },
     "execution_count": 153,
     "metadata": {},
     "output_type": "execute_result"
    }
   ],
   "source": [
    "X"
   ]
  },
  {
   "cell_type": "code",
   "execution_count": 154,
   "metadata": {
    "collapsed": true
   },
   "outputs": [],
   "source": [
    "def Gauss(x, mu, sigma):\n",
    "    return 1/(sigma*(2*math.pi)**(1/2))*math.exp((-(x-mu)**2)/(2*sigma**2))"
   ]
  },
  {
   "cell_type": "code",
   "execution_count": 155,
   "metadata": {
    "collapsed": true
   },
   "outputs": [],
   "source": [
    "mu = 0\n",
    "sigma = 0.2"
   ]
  },
  {
   "cell_type": "code",
   "execution_count": 156,
   "metadata": {
    "collapsed": false
   },
   "outputs": [],
   "source": [
    "for i in range(M+1):\n",
    "    X[i] = Gauss(X[i], mu, sigma)"
   ]
  },
  {
   "cell_type": "code",
   "execution_count": 157,
   "metadata": {
    "collapsed": false
   },
   "outputs": [
    {
     "data": {
      "text/plain": [
       "array([  1.86332659e-05,   6.30355259e-05,   2.00326487e-04,\n",
       "         5.98064418e-04,   1.67731314e-03,   4.41913153e-03,\n",
       "         1.09374556e-02,   2.54303462e-02,   5.55449827e-02,\n",
       "         1.13970904e-01,   2.19684668e-01,   3.97797544e-01,\n",
       "         6.76676416e-01,   1.08132583e+00,   1.62326234e+00,\n",
       "         2.28916681e+00,   3.03265330e+00,   3.77419801e+00,\n",
       "         4.41248451e+00,   4.84616617e+00,   5.00000000e+00,\n",
       "         4.84616617e+00,   4.41248451e+00,   3.77419801e+00,\n",
       "         3.03265330e+00,   2.28916681e+00,   1.62326234e+00,\n",
       "         1.08132583e+00,   6.76676416e-01,   3.97797544e-01,\n",
       "         2.19684668e-01,   1.13970904e-01,   5.55449827e-02,\n",
       "         2.54303462e-02,   1.09374556e-02,   4.41913153e-03,\n",
       "         1.67731314e-03,   5.98064418e-04,   2.00326487e-04,\n",
       "         6.30355259e-05,   1.86332659e-05])"
      ]
     },
     "execution_count": 157,
     "metadata": {},
     "output_type": "execute_result"
    }
   ],
   "source": [
    "X"
   ]
  },
  {
   "cell_type": "code",
   "execution_count": 158,
   "metadata": {
    "collapsed": false
   },
   "outputs": [
    {
     "data": {
      "text/plain": [
       "[<matplotlib.lines.Line2D at 0x91a19d0>]"
      ]
     },
     "execution_count": 158,
     "metadata": {},
     "output_type": "execute_result"
    },
    {
     "data": {
      "image/png": "[encoded data removed]",
      "text/plain": [
       "<matplotlib.figure.Figure at 0x90f6c90>"
      ]
     },
     "metadata": {},
     "output_type": "display_data"
    }
   ],
   "source": [
    "plt.plot(x,X)"
   ]
  },
  {
   "cell_type": "code",
   "execution_count": 159,
   "metadata": {
    "collapsed": false
   },
   "outputs": [],
   "source": [
    "u = np.ones((2,M+1))"
   ]
  },
  {
   "cell_type": "code",
   "execution_count": 160,
   "metadata": {
    "collapsed": true
   },
   "outputs": [],
   "source": [
    "for i in range(M+1):\n",
    "    u[0][i] = X[i]"
   ]
  },
  {
   "cell_type": "code",
   "execution_count": 161,
   "metadata": {
    "collapsed": false
   },
   "outputs": [],
   "source": [
    "u[0][0] = u[0][M] = u[1][0] = u[1][M] = 0"
   ]
  },
  {
   "cell_type": "code",
   "execution_count": 162,
   "metadata": {
    "collapsed": false
   },
   "outputs": [
    {
     "name": "stderr",
     "output_type": "stream",
     "text": [
      "C:\\Program Files\\Anaconda2\\lib\\site-packages\\ipykernel\\__main__.py:5: RuntimeWarning: overflow encountered in double_scalars\n",
      "C:\\Program Files\\Anaconda2\\lib\\site-packages\\ipykernel\\__main__.py:5: RuntimeWarning: invalid value encountered in double_scalars\n"
     ]
    }
   ],
   "source": [
    "for i in range(N):\n",
    "    d1 = (u[i % 2][0] + u[i % 2][1]) / 2\n",
    "    for j in range(M-2):\n",
    "        d2 = (u[i % 2][j + 1] + u[i % 2][j + 2]) / 2\n",
    "        u[1 - (i % 2)][j + 1] = u[i % 2][j + 1] + tau * (((u[i % 2][j]) ** 2 - (u[i % 2][j + 2]) ** 2) / (4 * h) + (abs(d2)*(u[i % 2][j + 2] - u[i % 2][j + 1]) - abs(d1)*(u[i % 2][j + 1] - u[i % 2][j])) / (2 * h) + nu * (u[i % 2][j + 2] - 2 * u[i % 2][j + 1] + u[i % 2][j])/(h ** 2))\n",
    "        d1 = d2"
   ]
  },
  {
   "cell_type": "code",
   "execution_count": 163,
   "metadata": {
    "collapsed": false
   },
   "outputs": [
    {
     "data": {
      "text/plain": [
       "array([[  0.00000000e+000,  -2.15536350e+113,  -1.52942424e+132,\n",
       "          2.08384234e+131,  -9.83715858e+067,   1.32104001e+132,\n",
       "         -4.44600272e+131,  -5.22008614e+187,  -1.02468362e+221,\n",
       "          8.77298528e+220,  -1.57498478e+112,  -3.25803047e+264,\n",
       "         -1.44637529e+287,   1.44637529e+287,  -3.26555469e+289,\n",
       "          4.87567008e+146,  -8.70953609e+296,   8.70953642e+296,\n",
       "         -1.39319149e+295,   1.14616184e+150,  -7.93419499e+298,\n",
       "          7.93558818e+298,  -5.14339768e+298,   1.48701691e+283,\n",
       "         -2.07130505e+299,   2.58564482e+299,  -2.90053941e+264,\n",
       "          7.58079825e+268,  -2.85067772e+269,   4.62665702e+136,\n",
       "         -6.85187058e+268,              -inf,               nan,\n",
       "                      nan,               nan,               nan,\n",
       "                      inf,               nan,   9.51699809e+176,\n",
       "          6.30355259e-005,   0.00000000e+000],\n",
       "       [  0.00000000e+000,  -1.53417171e+048,  -6.56561269e+056,\n",
       "         -1.74895640e+066,   1.62544764e+066,  -1.49657768e+050,\n",
       "          1.23508763e+065,  -9.42974307e+065,  -1.02177161e+094,\n",
       "         -4.52699375e+110,   1.71688726e+110,  -1.52636944e+057,\n",
       "         -2.55265762e+132,  -5.37842968e+143,   6.11920153e+073,\n",
       "         -8.08152794e+144,   8.61937091e+144,  -4.17361628e+148,\n",
       "          1.71290699e+076,  -5.27862007e+147,   4.70147829e+148,\n",
       "         -3.98386450e+149,   5.87975086e+076,  -3.20730344e+149,\n",
       "          7.19116794e+149,  -3.89371499e+134,   3.89378948e+134,\n",
       "         -8.58625575e+133,   1.33128387e+069,  -7.55073204e+134,\n",
       "          8.40935762e+134,   1.04824062e+050,  -2.73402542e+173,\n",
       "          6.28266282e+159,   2.19673525e+157,   2.73402542e+173,\n",
       "         -2.73398394e+173,   4.36279683e+088,  -4.36279683e+088,\n",
       "          1.00000000e+000,   0.00000000e+000]])"
      ]
     },
     "execution_count": 163,
     "metadata": {},
     "output_type": "execute_result"
    }
   ],
   "source": [
    "u"
   ]
  }
 ],
 "metadata": {
  "anaconda-cloud": {},
  "kernelspec": {
   "display_name": "Python [default]",
   "language": "python",
   "name": "python2"
  },
  "language_info": {
   "codemirror_mode": {
    "name": "ipython",
    "version": 2
   },
   "file_extension": ".py",
   "mimetype": "text/x-python",
   "name": "python",
   "nbconvert_exporter": "python",
   "pygments_lexer": "ipython2",
   "version": "2.7.12"
  }
 },
 "nbformat": 4,
 "nbformat_minor": 1
}
